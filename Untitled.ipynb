{
 "cells": [
  {
   "cell_type": "code",
   "execution_count": 14,
   "metadata": {},
   "outputs": [
    {
     "name": "stdout",
     "output_type": "stream",
     "text": [
      "err = 0.0011080009255538023\n"
     ]
    },
    {
     "data": {
      "text/plain": [
       "0.0011080009255538023"
      ]
     },
     "execution_count": 14,
     "metadata": {},
     "output_type": "execute_result"
    }
   ],
   "source": [
    "#Solve 2D Poisson: u_xx + u_yy = f(x,y), on the unit square with b.c. \n",
    "# u(0,y) = g3(y), u(1,y) = g4(y), -u_y(x,0) = g1(x), u_y(x,1) = g2(x)\n",
    "# Take the exact solution u(x,y) = sin(pi*x + pi*y)\n",
    "\n",
    "#Transfers to discretized system\n",
    "#(D2x + D2y + P1 + P2 + P3 + P4)u = b + f where\n",
    "#P1 = alpha1*Hyinv*E1*BySy\n",
    "#P2 = alphas2*Hyinv*E2*BySy\n",
    "#P3 = alpha3*Hxinv*E3 + beta*Hxinv*BxSx_tran*E3\n",
    "#P4 = alpha4*Hxinv*E4 + beta*Hxinv*BxSx_tran*E4\n",
    "\n",
    "#b = alpha1*Hyinv*E1*g1 + alpha2*Hyinv*E2*g2 + alpha3*Hxinv*E3*g3 + beta*Hxinv*BxSx_tran*E3*g3 + ...\n",
    "#    alpha4*Hxinv*E4*g4 + beta*Hxinv*BxSx_tran*E4*g4\n",
    "\n",
    "#to make system PD, multiply by -(H kron H):\n",
    "\n",
    "\n",
    "include(\"deriv_ops.jl\")\n",
    "using SparseArrays\n",
    "using LinearMaps\n",
    "using IterativeSolvers\n",
    "using Parameters\n",
    "\n",
    "\n",
    "\n",
    "@with_kw struct variables \n",
    "    h = 0.05\n",
    "    dx = h\n",
    "    dy = h\n",
    "    x = 0:dx:1\n",
    "    y = 0:dy:1\n",
    "    Nx = length(x)\n",
    "    Ny = length(y)\t\n",
    "    alpha1 = -1\n",
    "    alpha2 = -1\n",
    "    alpha3 = -13/dy\n",
    "    alpha4 = -13/dy\n",
    "    beta = 1\n",
    "end\n",
    "\n",
    "function myMAT!(du::AbstractVector, u::AbstractVector,var_test::variables)\n",
    "\t#Chunk below should be passed as input, but for now needs to match chunk below\n",
    "# \th = 0.05 \n",
    "# \tdx = h\n",
    "# \tdy = h\n",
    "# \tx = 0:dx:1\n",
    "#         y = 0:dy:1\n",
    "# \tNx = length(x)\n",
    "#         Ny = length(y)\n",
    "# \talpha1 = -1\n",
    "#         alpha2 = -1\n",
    "#         alpha3 = -13/dy\n",
    "#         alpha4 = -13/dy\n",
    "#         beta = 1\n",
    "    @unpack h,dx,dy,x,y,Nx,Ny,alpha1,alpha2,alpha3,alpha3,beta = var_test\n",
    "\t########################################\n",
    "\n",
    "        du_ops = D2x(u,Nx,Ny,dx) + D2y(u,Nx,Ny,dy) #compute action of D2x + D2y\n",
    "\n",
    "        du1 = BySy(u,Nx,Ny,dy)\n",
    "        du2 = VOLtoFACE(du1,1,Nx,Ny)\n",
    "        du3 = alpha1*Hyinv(du2,Nx,Ny,dy)  #compute action of P1\n",
    "\n",
    "        du4 = BySy(u,Nx,Ny,dy)\n",
    "        du5 = VOLtoFACE(du4,2,Nx,Ny)\n",
    "        du6 = alpha2*Hyinv(du5,Nx,Ny,dy) #compute action of P2\n",
    "\n",
    "        du7 = VOLtoFACE(u,3,Nx,Ny)\n",
    "        du8 = BxSx_tran(du7,Nx,Ny,dx)\n",
    "        du9 = beta*Hxinv(du8,Nx,Ny,dx)\n",
    "        du10 = VOLtoFACE(u,3,Nx,Ny)\n",
    "        du11 = alpha3*Hxinv(du10,Nx,Ny,dx) #compute action of P3\n",
    "\n",
    "        du12 = VOLtoFACE(u,4,Nx,Ny)\n",
    "        du13 = BxSx_tran(du12,Nx,Ny,dx)\n",
    "        du14 = beta*Hxinv(du13,Nx,Ny,dx)\n",
    "        du15 = VOLtoFACE(u,4,Nx,Ny)\n",
    "        du16 = alpha4*Hxinv(du15,Nx,Ny,dx) #compute action of P4\n",
    "\n",
    "\n",
    "        du0 = du_ops + du3 + du6 + du9 + du11 + du14 + du16 #Collect together\n",
    "\n",
    "        #compute action of -Hx kron Hy:\n",
    "\n",
    "        du17 = Hy(du0, Nx, Ny, dy)\n",
    "\tdu[:] = -Hx(du17,Nx,Ny,dx)\n",
    "end\n",
    "\n",
    "\n",
    "\n",
    " @unpack h,dx,dy,x,y,Nx,Ny,alpha1,alpha2,alpha3,alpha3,beta = var_test\n",
    "\n",
    "N = Nx*Ny\n",
    "g1 = -pi .* cos.(pi .* x)\n",
    "g2 = pi .* cos.(pi .* x .+ pi)\n",
    "g3 = sin.(pi .* y)\n",
    "g4 = sin.(pi .+ pi .* y)\n",
    "\n",
    "f = spzeros(Nx,Ny)\n",
    "exactU = spzeros(Nx,Ny)\n",
    "\n",
    "for i = 1:Nx\n",
    "\tfor j = 1:Ny\n",
    "\t\tf[j,i] = -pi^2 .* sin.(pi .* x[i] + pi .* y[j]) - pi^2 .* sin.(pi .* x[i] + pi .* y[j])\n",
    "\t\texactU[j,i] = sin.(pi .* x[i] + pi .* y[j])\n",
    "\tend\n",
    "end\n",
    "        \n",
    "f = f[:]\n",
    "exact = exactU[:]\n",
    "\n",
    "#Construct vector b\n",
    "b0 = FACEtoVOL(g1,1,Nx,Ny)\n",
    "b1 = alpha1*Hyinv(b0,Nx,Ny,dy)\n",
    "\n",
    "b2 = FACEtoVOL(g2,2,Nx,Ny)\n",
    "b3 = alpha2*Hyinv(b2,Nx,Ny,dy)\n",
    "\n",
    "b4 = FACEtoVOL(g3,3,Nx,Ny)\n",
    "b5 = alpha3*Hxinv(b4,Nx,Ny,dx)\n",
    "b6 = BxSx_tran(b4,Nx,Ny,dx)\n",
    "b7 = beta*Hxinv(b6,Nx,Ny,dx)\n",
    "\n",
    "b8 = FACEtoVOL(g4,4,Nx,Ny)\n",
    "b9 = alpha4*Hxinv(b8,Nx,Ny,dx)\n",
    "b10 = BxSx_tran(b8,Nx,Ny,dx)\n",
    "b11 = beta*Hxinv(b10,Nx,Ny,dx)\n",
    "        \n",
    "bb = b1  + b3  + b5 + b7 + b9 + b11 + f\n",
    "        \n",
    "#Modify b for PD system\n",
    "b12 = Hx(bb,Nx,Ny,dx)\n",
    "b = -Hy(b12,Nx,Ny,dy)\n",
    "\n",
    "D = LinearMap(myMAT!, N; ismutating=true)\n",
    "u = cg(D,b,tol=1e-14)\n",
    "\n",
    "diff = u - exact\n",
    "\n",
    "Hydiff = Hy(diff,Nx,Ny,dy)\n",
    "HxHydiff = Hx(Hydiff,Nx,Ny,dx)\n",
    "\n",
    "err = sqrt(diff'*HxHydiff)\n",
    "       \n",
    "@show err\n",
    "\n",
    "\n"
   ]
  },
  {
   "cell_type": "code",
   "execution_count": 4,
   "metadata": {},
   "outputs": [
    {
     "data": {
      "text/plain": [
       "variables"
      ]
     },
     "execution_count": 4,
     "metadata": {},
     "output_type": "execute_result"
    }
   ],
   "source": [
    "@with_kw struct variables \n",
    "    h = 0.05\n",
    "    dx = h\n",
    "    dy = h\n",
    "    x = 0:dx:1\n",
    "    y = 0:dy:1\n",
    "    Nx = length(x)\n",
    "    Ny = length(y)\t\n",
    "    alpha1 = -1\n",
    "    alpha2 = -1\n",
    "    alpha3 = -13/dy\n",
    "    alpha4 = -13/dy\n",
    "    beta = 1\n",
    "end"
   ]
  },
  {
   "cell_type": "code",
   "execution_count": 5,
   "metadata": {},
   "outputs": [
    {
     "data": {
      "text/plain": [
       "variables\n",
       "  h: Float64 0.05\n",
       "  dx: Float64 0.05\n",
       "  dy: Float64 0.05\n",
       "  x: StepRangeLen{Float64,Base.TwicePrecision{Float64},Base.TwicePrecision{Float64}}\n",
       "  y: StepRangeLen{Float64,Base.TwicePrecision{Float64},Base.TwicePrecision{Float64}}\n",
       "  Nx: Int64 21\n",
       "  Ny: Int64 21\n",
       "  alpha1: Int64 -1\n",
       "  alpha2: Int64 -1\n",
       "  alpha3: Float64 -260.0\n",
       "  alpha4: Float64 -260.0\n",
       "  beta: Int64 1\n"
      ]
     },
     "execution_count": 5,
     "metadata": {},
     "output_type": "execute_result"
    }
   ],
   "source": [
    "var_test = variables()"
   ]
  },
  {
   "cell_type": "code",
   "execution_count": 7,
   "metadata": {},
   "outputs": [
    {
     "data": {
      "text/plain": [
       "variables\n",
       "  h: Float64 0.05\n",
       "  dx: Float64 0.05\n",
       "  dy: Float64 0.05\n",
       "  x: StepRangeLen{Float64,Base.TwicePrecision{Float64},Base.TwicePrecision{Float64}}\n",
       "  y: StepRangeLen{Float64,Base.TwicePrecision{Float64},Base.TwicePrecision{Float64}}\n",
       "  Nx: Int64 21\n",
       "  Ny: Int64 21\n",
       "  alpha1: Int64 -1\n",
       "  alpha2: Int64 -1\n",
       "  alpha3: Float64 -260.0\n",
       "  alpha4: Float64 -260.0\n",
       "  beta: Int64 1\n"
      ]
     },
     "execution_count": 7,
     "metadata": {},
     "output_type": "execute_result"
    }
   ],
   "source": [
    "@unpack h,dx,dy,x,y,Nx,Ny,alpha1,alpha2,alpha3,alpha3,beta = var_test"
   ]
  },
  {
   "cell_type": "code",
   "execution_count": 8,
   "metadata": {},
   "outputs": [
    {
     "data": {
      "text/plain": [
       "0.05"
      ]
     },
     "execution_count": 8,
     "metadata": {},
     "output_type": "execute_result"
    }
   ],
   "source": []
  },
  {
   "cell_type": "code",
   "execution_count": 10,
   "metadata": {},
   "outputs": [
    {
     "data": {
      "text/plain": [
       "myMAT! (generic function with 2 methods)"
      ]
     },
     "execution_count": 10,
     "metadata": {},
     "output_type": "execute_result"
    }
   ],
   "source": [
    "function myMAT!(du::AbstractVector, u::AbstractVector,var_test::variables)\n",
    "\t#Chunk below should be passed as input, but for now needs to match chunk below\n",
    "# \th = 0.05 \n",
    "# \tdx = h\n",
    "# \tdy = h\n",
    "# \tx = 0:dx:1\n",
    "#         y = 0:dy:1\n",
    "# \tNx = length(x)\n",
    "#         Ny = length(y)\n",
    "# \talpha1 = -1\n",
    "#         alpha2 = -1\n",
    "#         alpha3 = -13/dy\n",
    "#         alpha4 = -13/dy\n",
    "#         beta = 1\n",
    "    @unpack h,dx,dy,x,y,Nx,Ny,alpha1,alpha2,alpha3,alpha3,beta = var_test\n",
    "\t########################################\n",
    "\n",
    "        du_ops = D2x(u,Nx,Ny,dx) + D2y(u,Nx,Ny,dy) #compute action of D2x + D2y\n",
    "\n",
    "        du1 = BySy(u,Nx,Ny,dy)\n",
    "        du2 = VOLtoFACE(du1,1,Nx,Ny)\n",
    "        du3 = alpha1*Hyinv(du2,Nx,Ny,dy)  #compute action of P1\n",
    "\n",
    "        du4 = BySy(u,Nx,Ny,dy)\n",
    "        du5 = VOLtoFACE(du4,2,Nx,Ny)\n",
    "        du6 = alpha2*Hyinv(du5,Nx,Ny,dy) #compute action of P2\n",
    "\n",
    "        du7 = VOLtoFACE(u,3,Nx,Ny)\n",
    "        du8 = BxSx_tran(du7,Nx,Ny,dx)\n",
    "        du9 = beta*Hxinv(du8,Nx,Ny,dx)\n",
    "        du10 = VOLtoFACE(u,3,Nx,Ny)\n",
    "        du11 = alpha3*Hxinv(du10,Nx,Ny,dx) #compute action of P3\n",
    "\n",
    "        du12 = VOLtoFACE(u,4,Nx,Ny)\n",
    "        du13 = BxSx_tran(du12,Nx,Ny,dx)\n",
    "        du14 = beta*Hxinv(du13,Nx,Ny,dx)\n",
    "        du15 = VOLtoFACE(u,4,Nx,Ny)\n",
    "        du16 = alpha4*Hxinv(du15,Nx,Ny,dx) #compute action of P4\n",
    "\n",
    "\n",
    "        du0 = du_ops + du3 + du6 + du9 + du11 + du14 + du16 #Collect together\n",
    "\n",
    "        #compute action of -Hx kron Hy:\n",
    "\n",
    "        du17 = Hy(du0, Nx, Ny, dy)\n",
    "\tdu[:] = -Hx(du17,Nx,Ny,dx)\n",
    "end"
   ]
  },
  {
   "cell_type": "code",
   "execution_count": null,
   "metadata": {},
   "outputs": [],
   "source": [
    "function myMAT!(du::AbstractVector, u::AbstractVector)\n",
    "\t#Chunk below should be passed as input, but for now needs to match chunk below\n",
    "\th = 0.05 \n",
    "\tdx = h\n",
    "\tdy = h\n",
    "\tx = 0:dx:1\n",
    "        y = 0:dy:1\n",
    "\tNx = length(x)\n",
    "        Ny = length(y)\n",
    "\talpha1 = -1\n",
    "        alpha2 = -1\n",
    "        alpha3 = -13/dy\n",
    "        alpha4 = -13/dy\n",
    "        beta = 1\n",
    "\t########################################\n",
    "\n",
    "        du_ops = D2x(u,Nx,Ny,dx) + D2y(u,Nx,Ny,dy) #compute action of D2x + D2y\n",
    "\n",
    "        du1 = BySy(u,Nx,Ny,dy)\n",
    "        du2 = VOLtoFACE(du1,1,Nx,Ny)\n",
    "        du3 = alpha1*Hyinv(du2,Nx,Ny,dy)  #compute action of P1\n",
    "\n",
    "        du4 = BySy(u,Nx,Ny,dy)\n",
    "        du5 = VOLtoFACE(du4,2,Nx,Ny)\n",
    "        du6 = alpha2*Hyinv(du5,Nx,Ny,dy) #compute action of P2\n",
    "\n",
    "        du7 = VOLtoFACE(u,3,Nx,Ny)\n",
    "        du8 = BxSx_tran(du7,Nx,Ny,dx)\n",
    "        du9 = beta*Hxinv(du8,Nx,Ny,dx)\n",
    "        du10 = VOLtoFACE(u,3,Nx,Ny)\n",
    "        du11 = alpha3*Hxinv(du10,Nx,Ny,dx) #compute action of P3\n",
    "\n",
    "        du12 = VOLtoFACE(u,4,Nx,Ny)\n",
    "        du13 = BxSx_tran(du12,Nx,Ny,dx)\n",
    "        du14 = beta*Hxinv(du13,Nx,Ny,dx)\n",
    "        du15 = VOLtoFACE(u,4,Nx,Ny)\n",
    "        du16 = alpha4*Hxinv(du15,Nx,Ny,dx) #compute action of P4\n",
    "\n",
    "\n",
    "        du0 = du_ops + du3 + du6 + du9 + du11 + du14 + du16 #Collect together\n",
    "\n",
    "        #compute action of -Hx kron Hy:\n",
    "\n",
    "        du17 = Hy(du0, Nx, Ny, dy)\n",
    "\tdu[:] = -Hx(du17,Nx,Ny,dx)\n",
    "end\n",
    "\t"
   ]
  },
  {
   "cell_type": "code",
   "execution_count": null,
   "metadata": {},
   "outputs": [],
   "source": [
    "#What's below should be passed as input to function above...\n",
    "h = 0.05\n",
    "dx = h\n",
    "dy = h\n",
    "x = 0:dx:1\n",
    "y = 0:dy:1\n",
    "Nx = length(x)\n",
    "Ny = length(y)\t\n",
    "alpha1 = -1\n",
    "alpha2 = -1\n",
    "alpha3 = -13/dy\n",
    "alpha4 = -13/dy\n",
    "beta = 1\n",
    "##########################################"
   ]
  }
 ],
 "metadata": {
  "kernelspec": {
   "display_name": "Julia 1.1.1",
   "language": "julia",
   "name": "julia-1.1"
  },
  "language_info": {
   "file_extension": ".jl",
   "mimetype": "application/julia",
   "name": "julia",
   "version": "1.1.1"
  }
 },
 "nbformat": 4,
 "nbformat_minor": 2
}
