{
 "cells": [
  {
   "cell_type": "code",
   "execution_count": 15,
   "metadata": {},
   "outputs": [
    {
     "name": "stdout",
     "output_type": "stream",
     "text": [
      "err = 0.0011080009255538023\n"
     ]
    },
    {
     "data": {
      "text/plain": [
       "0.0011080009255538023"
      ]
     },
     "execution_count": 15,
     "metadata": {},
     "output_type": "execute_result"
    }
   ],
   "source": [
    "#Solve 2D Poisson: u_xx + u_yy = f(x,y), on the unit square with b.c. \n",
    "# u(0,y) = g3(y), u(1,y) = g4(y), -u_y(x,0) = g1(x), u_y(x,1) = g2(x)\n",
    "# Take the exact solution u(x,y) = sin(pi*x + pi*y)\n",
    "\n",
    "#Transfers to discretized system\n",
    "#(D2x + D2y + P1 + P2 + P3 + P4)u = b + f where\n",
    "#P1 = alpha1*Hyinv*E1*BySy\n",
    "#P2 = alphas2*Hyinv*E2*BySy\n",
    "#P3 = alpha3*Hxinv*E3 + beta*Hxinv*BxSx_tran*E3\n",
    "#P4 = alpha4*Hxinv*E4 + beta*Hxinv*BxSx_tran*E4\n",
    "\n",
    "#b = alpha1*Hyinv*E1*g1 + alpha2*Hyinv*E2*g2 + alpha3*Hxinv*E3*g3 + beta*Hxinv*BxSx_tran*E3*g3 + ...\n",
    "#    alpha4*Hxinv*E4*g4 + beta*Hxinv*BxSx_tran*E4*g4\n",
    "\n",
    "#to make system PD, multiply by -(H kron H):\n",
    "\n",
    "\n",
    "include(\"deriv_ops.jl\")\n",
    "using SparseArrays\n",
    "using LinearMaps\n",
    "using IterativeSolvers\n",
    "using Parameters\n",
    "\n",
    "\n",
    "\n",
    "@with_kw struct variables \n",
    "    h = 0.05\n",
    "    dx = h\n",
    "    dy = h\n",
    "    x = 0:dx:1\n",
    "    y = 0:dy:1\n",
    "    Nx = length(x)\n",
    "    Ny = length(y)\t\n",
    "    alpha1 = -1\n",
    "    alpha2 = -1\n",
    "    alpha3 = -13/dy\n",
    "    alpha4 = -13/dy\n",
    "    beta = 1\n",
    "end\n",
    "\n",
    "var_test = variables()\n",
    "\n",
    "function myMAT!(du::AbstractVector, u::AbstractVector,var_test::variables)\n",
    "\t#Chunk below should be passed as input, but for now needs to match chunk below\n",
    "# \th = 0.05 \n",
    "# \tdx = h\n",
    "# \tdy = h\n",
    "# \tx = 0:dx:1\n",
    "#         y = 0:dy:1\n",
    "# \tNx = length(x)\n",
    "#         Ny = length(y)\n",
    "# \talpha1 = -1\n",
    "#         alpha2 = -1\n",
    "#         alpha3 = -13/dy\n",
    "#         alpha4 = -13/dy\n",
    "#         beta = 1\n",
    "    @unpack h,dx,dy,x,y,Nx,Ny,alpha1,alpha2,alpha3,alpha3,beta = var_test\n",
    "\t########################################\n",
    "\n",
    "        du_ops = D2x(u,Nx,Ny,dx) + D2y(u,Nx,Ny,dy) #compute action of D2x + D2y\n",
    "\n",
    "        du1 = BySy(u,Nx,Ny,dy)\n",
    "        du2 = VOLtoFACE(du1,1,Nx,Ny)\n",
    "        du3 = alpha1*Hyinv(du2,Nx,Ny,dy)  #compute action of P1\n",
    "\n",
    "        du4 = BySy(u,Nx,Ny,dy)\n",
    "        du5 = VOLtoFACE(du4,2,Nx,Ny)\n",
    "        du6 = alpha2*Hyinv(du5,Nx,Ny,dy) #compute action of P2\n",
    "\n",
    "        du7 = VOLtoFACE(u,3,Nx,Ny)\n",
    "        du8 = BxSx_tran(du7,Nx,Ny,dx)\n",
    "        du9 = beta*Hxinv(du8,Nx,Ny,dx)\n",
    "        du10 = VOLtoFACE(u,3,Nx,Ny)\n",
    "        du11 = alpha3*Hxinv(du10,Nx,Ny,dx) #compute action of P3\n",
    "\n",
    "        du12 = VOLtoFACE(u,4,Nx,Ny)\n",
    "        du13 = BxSx_tran(du12,Nx,Ny,dx)\n",
    "        du14 = beta*Hxinv(du13,Nx,Ny,dx)\n",
    "        du15 = VOLtoFACE(u,4,Nx,Ny)\n",
    "        du16 = alpha4*Hxinv(du15,Nx,Ny,dx) #compute action of P4\n",
    "\n",
    "\n",
    "        du0 = du_ops + du3 + du6 + du9 + du11 + du14 + du16 #Collect together\n",
    "\n",
    "        #compute action of -Hx kron Hy:\n",
    "\n",
    "        du17 = Hy(du0, Nx, Ny, dy)\n",
    "\tdu[:] = -Hx(du17,Nx,Ny,dx)\n",
    "end\n",
    "\n",
    "\n",
    "\n",
    " @unpack h,dx,dy,x,y,Nx,Ny,alpha1,alpha2,alpha3,alpha3,beta = var_test\n",
    "\n",
    "N = Nx*Ny\n",
    "g1 = -pi .* cos.(pi .* x)\n",
    "g2 = pi .* cos.(pi .* x .+ pi)\n",
    "g3 = sin.(pi .* y)\n",
    "g4 = sin.(pi .+ pi .* y)\n",
    "\n",
    "f = spzeros(Nx,Ny)\n",
    "exactU = spzeros(Nx,Ny)\n",
    "\n",
    "for i = 1:Nx\n",
    "\tfor j = 1:Ny\n",
    "\t\tf[j,i] = -pi^2 .* sin.(pi .* x[i] + pi .* y[j]) - pi^2 .* sin.(pi .* x[i] + pi .* y[j])\n",
    "\t\texactU[j,i] = sin.(pi .* x[i] + pi .* y[j])\n",
    "\tend\n",
    "end\n",
    "        \n",
    "f = f[:]\n",
    "exact = exactU[:]\n",
    "\n",
    "#Construct vector b\n",
    "b0 = FACEtoVOL(g1,1,Nx,Ny)\n",
    "b1 = alpha1*Hyinv(b0,Nx,Ny,dy)\n",
    "\n",
    "b2 = FACEtoVOL(g2,2,Nx,Ny)\n",
    "b3 = alpha2*Hyinv(b2,Nx,Ny,dy)\n",
    "\n",
    "b4 = FACEtoVOL(g3,3,Nx,Ny)\n",
    "b5 = alpha3*Hxinv(b4,Nx,Ny,dx)\n",
    "b6 = BxSx_tran(b4,Nx,Ny,dx)\n",
    "b7 = beta*Hxinv(b6,Nx,Ny,dx)\n",
    "\n",
    "b8 = FACEtoVOL(g4,4,Nx,Ny)\n",
    "b9 = alpha4*Hxinv(b8,Nx,Ny,dx)\n",
    "b10 = BxSx_tran(b8,Nx,Ny,dx)\n",
    "b11 = beta*Hxinv(b10,Nx,Ny,dx)\n",
    "        \n",
    "bb = b1  + b3  + b5 + b7 + b9 + b11 + f\n",
    "        \n",
    "#Modify b for PD system\n",
    "b12 = Hx(bb,Nx,Ny,dx)\n",
    "b = -Hy(b12,Nx,Ny,dy)\n",
    "\n",
    "D = LinearMap(myMAT!, N; ismutating=true)\n",
    "u = cg(D,b,tol=1e-14)\n",
    "\n",
    "diff = u - exact\n",
    "\n",
    "Hydiff = Hy(diff,Nx,Ny,dy)\n",
    "HxHydiff = Hx(Hydiff,Nx,Ny,dx)\n",
    "\n",
    "err = sqrt(diff'*HxHydiff)\n",
    "       \n",
    "@show err\n",
    "\n",
    "\n"
   ]
  },
  {
   "cell_type": "code",
   "execution_count": 4,
   "metadata": {},
   "outputs": [
    {
     "data": {
      "text/plain": [
       "variables"
      ]
     },
     "execution_count": 4,
     "metadata": {},
     "output_type": "execute_result"
    }
   ],
   "source": [
    "@with_kw struct variables \n",
    "    h = 0.05\n",
    "    dx = h\n",
    "    dy = h\n",
    "    x = 0:dx:1\n",
    "    y = 0:dy:1\n",
    "    Nx = length(x)\n",
    "    Ny = length(y)\t\n",
    "    alpha1 = -1\n",
    "    alpha2 = -1\n",
    "    alpha3 = -13/dy\n",
    "    alpha4 = -13/dy\n",
    "    beta = 1\n",
    "end"
   ]
  },
  {
   "cell_type": "code",
   "execution_count": 5,
   "metadata": {},
   "outputs": [
    {
     "data": {
      "text/plain": [
       "variables\n",
       "  h: Float64 0.05\n",
       "  dx: Float64 0.05\n",
       "  dy: Float64 0.05\n",
       "  x: StepRangeLen{Float64,Base.TwicePrecision{Float64},Base.TwicePrecision{Float64}}\n",
       "  y: StepRangeLen{Float64,Base.TwicePrecision{Float64},Base.TwicePrecision{Float64}}\n",
       "  Nx: Int64 21\n",
       "  Ny: Int64 21\n",
       "  alpha1: Int64 -1\n",
       "  alpha2: Int64 -1\n",
       "  alpha3: Float64 -260.0\n",
       "  alpha4: Float64 -260.0\n",
       "  beta: Int64 1\n"
      ]
     },
     "execution_count": 5,
     "metadata": {},
     "output_type": "execute_result"
    }
   ],
   "source": [
    "var_test = variables()"
   ]
  },
  {
   "cell_type": "code",
   "execution_count": 7,
   "metadata": {},
   "outputs": [
    {
     "data": {
      "text/plain": [
       "variables\n",
       "  h: Float64 0.05\n",
       "  dx: Float64 0.05\n",
       "  dy: Float64 0.05\n",
       "  x: StepRangeLen{Float64,Base.TwicePrecision{Float64},Base.TwicePrecision{Float64}}\n",
       "  y: StepRangeLen{Float64,Base.TwicePrecision{Float64},Base.TwicePrecision{Float64}}\n",
       "  Nx: Int64 21\n",
       "  Ny: Int64 21\n",
       "  alpha1: Int64 -1\n",
       "  alpha2: Int64 -1\n",
       "  alpha3: Float64 -260.0\n",
       "  alpha4: Float64 -260.0\n",
       "  beta: Int64 1\n"
      ]
     },
     "execution_count": 7,
     "metadata": {},
     "output_type": "execute_result"
    }
   ],
   "source": [
    "@unpack h,dx,dy,x,y,Nx,Ny,alpha1,alpha2,alpha3,alpha3,beta = var_test"
   ]
  },
  {
   "cell_type": "code",
   "execution_count": 8,
   "metadata": {},
   "outputs": [
    {
     "data": {
      "text/plain": [
       "0.05"
      ]
     },
     "execution_count": 8,
     "metadata": {},
     "output_type": "execute_result"
    }
   ],
   "source": []
  },
  {
   "cell_type": "code",
   "execution_count": 10,
   "metadata": {},
   "outputs": [
    {
     "data": {
      "text/plain": [
       "myMAT! (generic function with 2 methods)"
      ]
     },
     "execution_count": 10,
     "metadata": {},
     "output_type": "execute_result"
    }
   ],
   "source": [
    "function myMAT!(du::AbstractVector, u::AbstractVector,var_test::variables)\n",
    "\t#Chunk below should be passed as input, but for now needs to match chunk below\n",
    "# \th = 0.05 \n",
    "# \tdx = h\n",
    "# \tdy = h\n",
    "# \tx = 0:dx:1\n",
    "#         y = 0:dy:1\n",
    "# \tNx = length(x)\n",
    "#         Ny = length(y)\n",
    "# \talpha1 = -1\n",
    "#         alpha2 = -1\n",
    "#         alpha3 = -13/dy\n",
    "#         alpha4 = -13/dy\n",
    "#         beta = 1\n",
    "    @unpack h,dx,dy,x,y,Nx,Ny,alpha1,alpha2,alpha3,alpha3,beta = var_test\n",
    "\t########################################\n",
    "\n",
    "        du_ops = D2x(u,Nx,Ny,dx) + D2y(u,Nx,Ny,dy) #compute action of D2x + D2y\n",
    "\n",
    "        du1 = BySy(u,Nx,Ny,dy)\n",
    "        du2 = VOLtoFACE(du1,1,Nx,Ny)\n",
    "        du3 = alpha1*Hyinv(du2,Nx,Ny,dy)  #compute action of P1\n",
    "\n",
    "        du4 = BySy(u,Nx,Ny,dy)\n",
    "        du5 = VOLtoFACE(du4,2,Nx,Ny)\n",
    "        du6 = alpha2*Hyinv(du5,Nx,Ny,dy) #compute action of P2\n",
    "\n",
    "        du7 = VOLtoFACE(u,3,Nx,Ny)\n",
    "        du8 = BxSx_tran(du7,Nx,Ny,dx)\n",
    "        du9 = beta*Hxinv(du8,Nx,Ny,dx)\n",
    "        du10 = VOLtoFACE(u,3,Nx,Ny)\n",
    "        du11 = alpha3*Hxinv(du10,Nx,Ny,dx) #compute action of P3\n",
    "\n",
    "        du12 = VOLtoFACE(u,4,Nx,Ny)\n",
    "        du13 = BxSx_tran(du12,Nx,Ny,dx)\n",
    "        du14 = beta*Hxinv(du13,Nx,Ny,dx)\n",
    "        du15 = VOLtoFACE(u,4,Nx,Ny)\n",
    "        du16 = alpha4*Hxinv(du15,Nx,Ny,dx) #compute action of P4\n",
    "\n",
    "\n",
    "        du0 = du_ops + du3 + du6 + du9 + du11 + du14 + du16 #Collect together\n",
    "\n",
    "        #compute action of -Hx kron Hy:\n",
    "\n",
    "        du17 = Hy(du0, Nx, Ny, dy)\n",
    "\tdu[:] = -Hx(du17,Nx,Ny,dx)\n",
    "end"
   ]
  },
  {
   "cell_type": "code",
   "execution_count": null,
   "metadata": {},
   "outputs": [],
   "source": [
    "function myMAT!(du::AbstractVector, u::AbstractVector)\n",
    "\t#Chunk below should be passed as input, but for now needs to match chunk below\n",
    "\th = 0.05 \n",
    "\tdx = h\n",
    "\tdy = h\n",
    "\tx = 0:dx:1\n",
    "        y = 0:dy:1\n",
    "\tNx = length(x)\n",
    "        Ny = length(y)\n",
    "\talpha1 = -1\n",
    "        alpha2 = -1\n",
    "        alpha3 = -13/dy\n",
    "        alpha4 = -13/dy\n",
    "        beta = 1\n",
    "\t########################################\n",
    "\n",
    "        du_ops = D2x(u,Nx,Ny,dx) + D2y(u,Nx,Ny,dy) #compute action of D2x + D2y\n",
    "\n",
    "        du1 = BySy(u,Nx,Ny,dy)\n",
    "        du2 = VOLtoFACE(du1,1,Nx,Ny)\n",
    "        du3 = alpha1*Hyinv(du2,Nx,Ny,dy)  #compute action of P1\n",
    "\n",
    "        du4 = BySy(u,Nx,Ny,dy)\n",
    "        du5 = VOLtoFACE(du4,2,Nx,Ny)\n",
    "        du6 = alpha2*Hyinv(du5,Nx,Ny,dy) #compute action of P2\n",
    "\n",
    "        du7 = VOLtoFACE(u,3,Nx,Ny)\n",
    "        du8 = BxSx_tran(du7,Nx,Ny,dx)\n",
    "        du9 = beta*Hxinv(du8,Nx,Ny,dx)\n",
    "        du10 = VOLtoFACE(u,3,Nx,Ny)\n",
    "        du11 = alpha3*Hxinv(du10,Nx,Ny,dx) #compute action of P3\n",
    "\n",
    "        du12 = VOLtoFACE(u,4,Nx,Ny)\n",
    "        du13 = BxSx_tran(du12,Nx,Ny,dx)\n",
    "        du14 = beta*Hxinv(du13,Nx,Ny,dx)\n",
    "        du15 = VOLtoFACE(u,4,Nx,Ny)\n",
    "        du16 = alpha4*Hxinv(du15,Nx,Ny,dx) #compute action of P4\n",
    "\n",
    "\n",
    "        du0 = du_ops + du3 + du6 + du9 + du11 + du14 + du16 #Collect together\n",
    "\n",
    "        #compute action of -Hx kron Hy:\n",
    "\n",
    "        du17 = Hy(du0, Nx, Ny, dy)\n",
    "\tdu[:] = -Hx(du17,Nx,Ny,dx)\n",
    "end\n",
    "\t"
   ]
  },
  {
   "cell_type": "code",
   "execution_count": null,
   "metadata": {},
   "outputs": [],
   "source": [
    "#What's below should be passed as input to function above...\n",
    "h = 0.05\n",
    "dx = h\n",
    "dy = h\n",
    "x = 0:dx:1\n",
    "y = 0:dy:1\n",
    "Nx = length(x)\n",
    "Ny = length(y)\t\n",
    "alpha1 = -1\n",
    "alpha2 = -1\n",
    "alpha3 = -13/dy\n",
    "alpha4 = -13/dy\n",
    "beta = 1\n",
    "##########################################"
   ]
  },
  {
   "cell_type": "code",
   "execution_count": 13,
   "metadata": {},
   "outputs": [
    {
     "ename": "LoadError",
     "evalue": "syntax: space required before colon in \"?\" expression",
     "output_type": "error",
     "traceback": [
      "syntax: space required before colon in \"?\" expression",
      ""
     ]
    }
   ],
   "source": [
    "\n"
   ]
  },
  {
   "cell_type": "code",
   "execution_count": 11,
   "metadata": {},
   "outputs": [
    {
     "ename": "MethodError",
     "evalue": "MethodError: no method matching -(::Type{Float64}, ::Type{Int64})",
     "output_type": "error",
     "traceback": [
      "MethodError: no method matching -(::Type{Float64}, ::Type{Int64})",
      "",
      "Stacktrace:",
      " [1] (::Colon)(::Type{Int64}, ::Type{Float64}) at ./range.jl:7",
      " [2] top-level scope at In[11]:1"
     ]
    }
   ],
   "source": [
    "Int64:Float64"
   ]
  },
  {
   "cell_type": "code",
   "execution_count": 14,
   "metadata": {},
   "outputs": [
    {
     "data": {
      "text/plain": [
       "10-element Array{Int64,1}:\n",
       "  1\n",
       "  2\n",
       "  3\n",
       "  4\n",
       "  5\n",
       "  6\n",
       "  7\n",
       "  8\n",
       "  9\n",
       " 10"
      ]
     },
     "execution_count": 14,
     "metadata": {},
     "output_type": "execute_result"
    }
   ],
   "source": [
    "a = Int64[1,2,3,4,5,6,7,8,9,10]"
   ]
  },
  {
   "cell_type": "code",
   "execution_count": 15,
   "metadata": {},
   "outputs": [
    {
     "data": {
      "text/plain": [
       "10-element Array{Number,1}:\n",
       "  1\n",
       "  2\n",
       "  3\n",
       "  4\n",
       "  5\n",
       "  6\n",
       "  7\n",
       "  8\n",
       "  9\n",
       " 10"
      ]
     },
     "execution_count": 15,
     "metadata": {},
     "output_type": "execute_result"
    }
   ],
   "source": [
    "b = Number[1,2,3,4,5,6,7,8,9,10]"
   ]
  },
  {
   "cell_type": "code",
   "execution_count": 16,
   "metadata": {},
   "outputs": [
    {
     "ename": "UndefVarError",
     "evalue": "UndefVarError: T not defined",
     "output_type": "error",
     "traceback": [
      "UndefVarError: T not defined",
      "",
      "Stacktrace:",
      " [1] top-level scope at In[16]:1"
     ]
    }
   ],
   "source": [
    "function arr_sumsqr{T <: Number}(x::Array{T})\n",
    "    r = zero(T)\n",
    "    for i = 1:length(x)\n",
    "        r = r + x[i]^2\n",
    "    end\n",
    "    return r\n",
    "end"
   ]
  },
  {
   "cell_type": "code",
   "execution_count": 18,
   "metadata": {},
   "outputs": [
    {
     "name": "stdout",
     "output_type": "stream",
     "text": [
      "search: \u001b[0m\u001b[1mi\u001b[22msi\u001b[0m\u001b[1mm\u001b[22m\u001b[0m\u001b[1mm\u001b[22m\u001b[0m\u001b[1mu\u001b[22m\u001b[0m\u001b[1mt\u001b[22m\u001b[0m\u001b[1ma\u001b[22m\u001b[0m\u001b[1mb\u001b[22m\u001b[0m\u001b[1ml\u001b[22m\u001b[0m\u001b[1me\u001b[22m\n",
      "\n",
      "Couldn't find \u001b[36mimmutable\u001b[39m\n",
      "Perhaps you meant isimmutable or iswritable\n"
     ]
    },
    {
     "data": {
      "text/latex": [
       "No documentation found.\n",
       "\n",
       "Binding \\texttt{immutable} does not exist.\n",
       "\n"
      ],
      "text/markdown": [
       "No documentation found.\n",
       "\n",
       "Binding `immutable` does not exist.\n"
      ],
      "text/plain": [
       "  No documentation found.\n",
       "\n",
       "  Binding \u001b[36mimmutable\u001b[39m does not exist."
      ]
     },
     "execution_count": 18,
     "metadata": {},
     "output_type": "execute_result"
    }
   ],
   "source": [
    "?immutable"
   ]
  },
  {
   "cell_type": "code",
   "execution_count": 19,
   "metadata": {},
   "outputs": [
    {
     "data": {
      "text/plain": [
       "pow_array (generic function with 1 method)"
      ]
     },
     "execution_count": 19,
     "metadata": {},
     "output_type": "execute_result"
    }
   ],
   "source": [
    "p = 2\n",
    "function pow_array(x::Vector{Float64})\n",
    "    s = 0.0\n",
    "    for y in x\n",
    "        s = s + y^p\n",
    "    end\n",
    "    return s\n",
    "end"
   ]
  },
  {
   "cell_type": "code",
   "execution_count": 23,
   "metadata": {},
   "outputs": [
    {
     "data": {
      "text/plain": [
       "13.0"
      ]
     },
     "execution_count": 23,
     "metadata": {},
     "output_type": "execute_result"
    }
   ],
   "source": [
    "pow_array(Float64[2,3])"
   ]
  },
  {
   "cell_type": "code",
   "execution_count": 24,
   "metadata": {},
   "outputs": [
    {
     "data": {
      "text/plain": [
       "100000-element Array{Float64,1}:\n",
       " 0.6542411720260983 \n",
       " 0.0913397952784274 \n",
       " 0.2085698459135461 \n",
       " 0.9278574460743669 \n",
       " 0.46940952819460646\n",
       " 0.4832794044942048 \n",
       " 0.8325829909185998 \n",
       " 0.4458146083318648 \n",
       " 0.7981543117739327 \n",
       " 0.24625012936293578\n",
       " 0.26245340613919677\n",
       " 0.8870365011376304 \n",
       " 0.09839049890761564\n",
       " ⋮                  \n",
       " 0.7646765051493525 \n",
       " 0.8704773281434093 \n",
       " 0.8494578293337467 \n",
       " 0.14527082424122129\n",
       " 0.356869648032472  \n",
       " 0.5517813157936655 \n",
       " 0.9798405524278362 \n",
       " 0.773090279202391  \n",
       " 0.5019812153125178 \n",
       " 0.07575047403773949\n",
       " 0.23993605339303148\n",
       " 0.8396072665017813 "
      ]
     },
     "execution_count": 24,
     "metadata": {},
     "output_type": "execute_result"
    }
   ],
   "source": [
    "t = rand(100000)"
   ]
  },
  {
   "cell_type": "code",
   "execution_count": 29,
   "metadata": {},
   "outputs": [
    {
     "name": "stdout",
     "output_type": "stream",
     "text": [
      "\u001b[32m\u001b[1m Resolving\u001b[22m\u001b[39m package versions...\n",
      "\u001b[32m\u001b[1m Installed\u001b[22m\u001b[39m Missings ─ v0.4.2\n",
      "\u001b[32m\u001b[1m  Updating\u001b[22m\u001b[39m `~/.julia/environments/v1.1/Project.toml`\n",
      "\u001b[90m [no changes]\u001b[39m\n",
      "\u001b[32m\u001b[1m  Updating\u001b[22m\u001b[39m `~/.julia/environments/v1.1/Manifest.toml`\n",
      " \u001b[90m [e1d29d7a]\u001b[39m\u001b[93m ↑ Missings v0.4.1 ⇒ v0.4.2\u001b[39m\n"
     ]
    }
   ],
   "source": [
    "import Pkg\n",
    "Pkg.add(\"BenchmarkTools\")"
   ]
  },
  {
   "cell_type": "code",
   "execution_count": 31,
   "metadata": {},
   "outputs": [
    {
     "name": "stderr",
     "output_type": "stream",
     "text": [
      "┌ Info: Recompiling stale cache file /Users/chern/.julia/compiled/v1.1/BenchmarkTools/ZXPQo.ji for BenchmarkTools [6e4b80f9-dd63-53aa-95a3-0cdb28fa8baf]\n",
      "└ @ Base loading.jl:1184\n"
     ]
    },
    {
     "data": {
      "text/plain": [
       "BenchmarkTools.Trial: \n",
       "  memory estimate:  4.58 MiB\n",
       "  allocs estimate:  300000\n",
       "  --------------\n",
       "  minimum time:     7.474 ms (0.00% GC)\n",
       "  median time:      9.554 ms (0.00% GC)\n",
       "  mean time:        10.374 ms (4.83% GC)\n",
       "  maximum time:     105.382 ms (90.54% GC)\n",
       "  --------------\n",
       "  samples:          481\n",
       "  evals/sample:     1"
      ]
     },
     "execution_count": 31,
     "metadata": {},
     "output_type": "execute_result"
    }
   ],
   "source": [
    "using BenchmarkTools\n",
    "@benchmark pow_array(t)"
   ]
  },
  {
   "cell_type": "code",
   "execution_count": 32,
   "metadata": {},
   "outputs": [
    {
     "name": "stdout",
     "output_type": "stream",
     "text": [
      "Body\u001b[91m\u001b[1m::Any\u001b[22m\u001b[39m\n",
      "\u001b[90m1 ──\u001b[39m %1  = (Base.arraylen)(x)\u001b[36m::Int64\u001b[39m\n",
      "\u001b[90m│   \u001b[39m %2  = (Base.sle_int)(0, %1)\u001b[36m::Bool\u001b[39m\n",
      "\u001b[90m│   \u001b[39m %3  = (Base.bitcast)(UInt64, %1)\u001b[36m::UInt64\u001b[39m\n",
      "\u001b[90m│   \u001b[39m %4  = (Base.ult_int)(0x0000000000000000, %3)\u001b[36m::Bool\u001b[39m\n",
      "\u001b[90m│   \u001b[39m %5  = (Base.and_int)(%2, %4)\u001b[36m::Bool\u001b[39m\n",
      "\u001b[90m└───\u001b[39m       goto #3 if not %5\n",
      "\u001b[90m2 ──\u001b[39m %7  = (Base.arrayref)(false, x, 1)\u001b[36m::Float64\u001b[39m\n",
      "\u001b[90m└───\u001b[39m       goto #4\n",
      "\u001b[90m3 ──\u001b[39m       goto #4\n",
      "\u001b[90m4 ┄─\u001b[39m %10 = φ (#2 => false, #3 => true)\u001b[36m::Bool\u001b[39m\n",
      "\u001b[90m│   \u001b[39m %11 = φ (#2 => %7)\u001b[36m::Float64\u001b[39m\n",
      "\u001b[90m│   \u001b[39m %12 = φ (#2 => 2)\u001b[36m::Int64\u001b[39m\n",
      "\u001b[90m└───\u001b[39m       goto #5\n",
      "\u001b[90m5 ──\u001b[39m %14 = (Base.not_int)(%10)\u001b[36m::Bool\u001b[39m\n",
      "\u001b[90m└───\u001b[39m       goto #11 if not %14\n",
      "\u001b[90m6 ┄─\u001b[39m %16 = φ (#5 => 0.0, #10 => %20)\u001b[91m\u001b[1m::Any\u001b[22m\u001b[39m\n",
      "\u001b[90m│   \u001b[39m %17 = φ (#5 => %11, #10 => %33)\u001b[36m::Float64\u001b[39m\n",
      "\u001b[90m│   \u001b[39m %18 = φ (#5 => %12, #10 => %34)\u001b[36m::Int64\u001b[39m\n",
      "\u001b[90m│   \u001b[39m %19 = (%17 ^ Main.p)\u001b[91m\u001b[1m::Any\u001b[22m\u001b[39m\n",
      "\u001b[90m│   \u001b[39m %20 = (%16 + %19)\u001b[91m\u001b[1m::Any\u001b[22m\u001b[39m\n",
      "\u001b[90m│   \u001b[39m %21 = (Base.bitcast)(UInt64, %18)\u001b[36m::UInt64\u001b[39m\n",
      "\u001b[90m│   \u001b[39m %22 = (Base.sub_int)(%21, 0x0000000000000001)\u001b[36m::UInt64\u001b[39m\n",
      "\u001b[90m│   \u001b[39m %23 = (Base.arraylen)(x)\u001b[36m::Int64\u001b[39m\n",
      "\u001b[90m│   \u001b[39m %24 = (Base.sle_int)(0, %23)\u001b[36m::Bool\u001b[39m\n",
      "\u001b[90m│   \u001b[39m %25 = (Base.bitcast)(UInt64, %23)\u001b[36m::UInt64\u001b[39m\n",
      "\u001b[90m│   \u001b[39m %26 = (Base.ult_int)(%22, %25)\u001b[36m::Bool\u001b[39m\n",
      "\u001b[90m│   \u001b[39m %27 = (Base.and_int)(%24, %26)\u001b[36m::Bool\u001b[39m\n",
      "\u001b[90m└───\u001b[39m       goto #8 if not %27\n",
      "\u001b[90m7 ──\u001b[39m %29 = (Base.arrayref)(false, x, %18)\u001b[36m::Float64\u001b[39m\n",
      "\u001b[90m│   \u001b[39m %30 = (Base.add_int)(%18, 1)\u001b[36m::Int64\u001b[39m\n",
      "\u001b[90m└───\u001b[39m       goto #9\n",
      "\u001b[90m8 ──\u001b[39m       goto #9\n",
      "\u001b[90m9 ┄─\u001b[39m %33 = φ (#7 => %29)\u001b[36m::Float64\u001b[39m\n",
      "\u001b[90m│   \u001b[39m %34 = φ (#7 => %30)\u001b[36m::Int64\u001b[39m\n",
      "\u001b[90m│   \u001b[39m %35 = φ (#7 => false, #8 => true)\u001b[36m::Bool\u001b[39m\n",
      "\u001b[90m│   \u001b[39m %36 = (Base.not_int)(%35)\u001b[36m::Bool\u001b[39m\n",
      "\u001b[90m└───\u001b[39m       goto #11 if not %36\n",
      "\u001b[90m10 ─\u001b[39m       goto #6\n",
      "\u001b[90m11 ┄\u001b[39m %39 = φ (#9 => %20, #5 => 0.0)\u001b[91m\u001b[1m::Any\u001b[22m\u001b[39m\n",
      "\u001b[90m└───\u001b[39m       return %39\n"
     ]
    }
   ],
   "source": [
    "@code_warntype pow_array(t)"
   ]
  },
  {
   "cell_type": "code",
   "execution_count": 33,
   "metadata": {},
   "outputs": [
    {
     "data": {
      "text/plain": [
       "pow_array (generic function with 1 method)"
      ]
     },
     "execution_count": 33,
     "metadata": {},
     "output_type": "execute_result"
    }
   ],
   "source": [
    "p = 2\n",
    "function pow_array(x::Vector{Float64})\n",
    "    s = 0.0\n",
    "    for y in x\n",
    "        s = s + y^p\n",
    "    end\n",
    "    return s\n",
    "end"
   ]
  },
  {
   "cell_type": "code",
   "execution_count": 34,
   "metadata": {},
   "outputs": [
    {
     "data": {
      "text/plain": [
       "BenchmarkTools.Trial: \n",
       "  memory estimate:  4.58 MiB\n",
       "  allocs estimate:  300000\n",
       "  --------------\n",
       "  minimum time:     7.048 ms (0.00% GC)\n",
       "  median time:      7.508 ms (0.00% GC)\n",
       "  mean time:        7.762 ms (4.02% GC)\n",
       "  maximum time:     58.159 ms (87.54% GC)\n",
       "  --------------\n",
       "  samples:          643\n",
       "  evals/sample:     1"
      ]
     },
     "execution_count": 34,
     "metadata": {},
     "output_type": "execute_result"
    }
   ],
   "source": [
    "@benchmark pow_array(t)"
   ]
  },
  {
   "cell_type": "code",
   "execution_count": 35,
   "metadata": {},
   "outputs": [
    {
     "data": {
      "text/plain": [
       "pow_array2 (generic function with 1 method)"
      ]
     },
     "execution_count": 35,
     "metadata": {},
     "output_type": "execute_result"
    }
   ],
   "source": [
    "const p2 = 2\n",
    "function pow_array2(x::Vector{Float64})\n",
    "    s = 0.0\n",
    "    for y in x\n",
    "        s = s + y^p2\n",
    "    end\n",
    "    return s\n",
    "end\n"
   ]
  },
  {
   "cell_type": "code",
   "execution_count": 36,
   "metadata": {},
   "outputs": [
    {
     "data": {
      "text/plain": [
       "BenchmarkTools.Trial: \n",
       "  memory estimate:  0 bytes\n",
       "  allocs estimate:  0\n",
       "  --------------\n",
       "  minimum time:     81.326 μs (0.00% GC)\n",
       "  median time:      81.336 μs (0.00% GC)\n",
       "  mean time:        83.409 μs (0.00% GC)\n",
       "  maximum time:     461.133 μs (0.00% GC)\n",
       "  --------------\n",
       "  samples:          10000\n",
       "  evals/sample:     1"
      ]
     },
     "execution_count": 36,
     "metadata": {},
     "output_type": "execute_result"
    }
   ],
   "source": [
    "@benchmark pow_array2(t)"
   ]
  },
  {
   "cell_type": "code",
   "execution_count": 38,
   "metadata": {},
   "outputs": [
    {
     "data": {
      "text/plain": [
       "trunc (generic function with 1 method)"
      ]
     },
     "execution_count": 38,
     "metadata": {},
     "output_type": "execute_result"
    }
   ],
   "source": [
    "trunc(x) = x < 0 ? zero(x) : x"
   ]
  },
  {
   "cell_type": "code",
   "execution_count": 39,
   "metadata": {},
   "outputs": [
    {
     "data": {
      "text/plain": [
       "sqrt_sin (generic function with 1 method)"
      ]
     },
     "execution_count": 39,
     "metadata": {},
     "output_type": "execute_result"
    }
   ],
   "source": [
    "function sqrt_sin(x)\n",
    "    y = trunc(x)\n",
    "    return sin(sqrt(y) + 1)\n",
    "end\n"
   ]
  },
  {
   "cell_type": "code",
   "execution_count": 40,
   "metadata": {},
   "outputs": [
    {
     "data": {
      "text/plain": [
       "CodeInfo(\n",
       "\u001b[90m1 ─\u001b[39m %1  = (Base.slt_int)(x, 0)\u001b[36m::Bool\u001b[39m\n",
       "\u001b[90m└──\u001b[39m       goto #3 if not %1\n",
       "\u001b[90m2 ─\u001b[39m       goto #4\n",
       "\u001b[90m3 ─\u001b[39m       goto #4\n",
       "\u001b[90m4 ┄\u001b[39m %5  = φ (#2 => 0, #3 => _2)\u001b[36m::Int64\u001b[39m\n",
       "\u001b[90m│  \u001b[39m %6  = (Base.sitofp)(Float64, %5)\u001b[36m::Float64\u001b[39m\n",
       "\u001b[90m│  \u001b[39m %7  = (Base.lt_float)(%6, 0.0)\u001b[36m::Bool\u001b[39m\n",
       "\u001b[90m└──\u001b[39m       goto #6 if not %7\n",
       "\u001b[90m5 ─\u001b[39m       invoke Base.Math.throw_complex_domainerror(:sqrt::Symbol, %6::Float64)\u001b[90m::Union{}\u001b[39m\n",
       "\u001b[90m└──\u001b[39m       $(Expr(:unreachable))\u001b[90m::Union{}\u001b[39m\n",
       "\u001b[90m6 ┄\u001b[39m %11 = (Base.Math.sqrt_llvm)(%6)\u001b[36m::Float64\u001b[39m\n",
       "\u001b[90m└──\u001b[39m       goto #7\n",
       "\u001b[90m7 ─\u001b[39m       goto #8\n",
       "\u001b[90m8 ─\u001b[39m %14 = (Base.add_float)(%11, 1.0)\u001b[36m::Float64\u001b[39m\n",
       "\u001b[90m│  \u001b[39m %15 = invoke Main.sin(%14::Float64)\u001b[36m::Float64\u001b[39m\n",
       "\u001b[90m└──\u001b[39m       return %15\n",
       ") => Float64"
      ]
     },
     "execution_count": 40,
     "metadata": {},
     "output_type": "execute_result"
    }
   ],
   "source": [
    "@code_typed sqrt_sin(1)"
   ]
  },
  {
   "cell_type": "code",
   "execution_count": null,
   "metadata": {},
   "outputs": [],
   "source": []
  }
 ],
 "metadata": {
  "kernelspec": {
   "display_name": "Julia 1.1.1",
   "language": "julia",
   "name": "julia-1.1"
  },
  "language_info": {
   "file_extension": ".jl",
   "mimetype": "application/julia",
   "name": "julia",
   "version": "1.1.1"
  }
 },
 "nbformat": 4,
 "nbformat_minor": 2
}
